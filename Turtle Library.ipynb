{
 "cells": [
  {
   "cell_type": "markdown",
   "metadata": {},
   "source": [
    "## Turtle Library"
   ]
  },
  {
   "cell_type": "markdown",
   "metadata": {},
   "source": [
    "Turtle Library is a pre-installed Python Library that allows us to create shapes and pictures within a virtual canvas."
   ]
  },
  {
   "cell_type": "markdown",
   "metadata": {},
   "source": [
    "The onscreen pen that you use for drawing is called the \"turtle\" and this is what gives the library its name."
   ]
  },
  {
   "cell_type": "markdown",
   "metadata": {},
   "source": [
    "Turtle graphics are vector graphics uses a relative cursor upon a Cartesian plane."
   ]
  },
  {
   "cell_type": "markdown",
   "metadata": {},
   "source": [
    "Turtle graphics is a popular way for introducing programming to kids and it's a key feature of \"Logo programming language\"."
   ]
  },
  {
   "cell_type": "markdown",
   "metadata": {},
   "source": [
    "Learn Python Turtle from official documentation : https://docs.python.org/3/library/turtle.html"
   ]
  }
 ],
 "metadata": {
  "kernelspec": {
   "display_name": "Python 3",
   "language": "python",
   "name": "python3"
  },
  "language_info": {
   "codemirror_mode": {
    "name": "ipython",
    "version": 3
   },
   "file_extension": ".py",
   "mimetype": "text/x-python",
   "name": "python",
   "nbconvert_exporter": "python",
   "pygments_lexer": "ipython3",
   "version": "3.7.6"
  }
 },
 "nbformat": 4,
 "nbformat_minor": 4
}
