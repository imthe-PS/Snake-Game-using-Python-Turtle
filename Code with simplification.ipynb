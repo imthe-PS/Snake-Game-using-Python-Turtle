{
 "cells": [
  {
   "cell_type": "markdown",
   "metadata": {},
   "source": [
    "## What's the game ?"
   ]
  },
  {
   "cell_type": "markdown",
   "metadata": {},
   "source": [
    "In this game, there will be two  elements- snake and food. The player has to move the snake so that it eats(touches) the food and grows long. The snake will die if it touches the boundary of screen and its own body.  "
   ]
  },
  {
   "cell_type": "markdown",
   "metadata": {},
   "source": [
    "## So let's go ahead and  code it"
   ]
  },
  {
   "cell_type": "markdown",
   "metadata": {},
   "source": [
    "## Import required libraries"
   ]
  },
  {
   "cell_type": "code",
   "execution_count": 1,
   "metadata": {},
   "outputs": [],
   "source": [
    "import turtle\n",
    "import random"
   ]
  },
  {
   "cell_type": "markdown",
   "metadata": {},
   "source": [
    "## Set up the screen"
   ]
  },
  {
   "cell_type": "markdown",
   "metadata": {},
   "source": [
    "Create the screen in which our entire game gonna display"
   ]
  },
  {
   "cell_type": "code",
   "execution_count": 2,
   "metadata": {},
   "outputs": [],
   "source": [
    "win = turtle.Screen()\n",
    "win.title(\"Snake : I need food\")\n",
    "win.bgcolor(\"skyblue\")\n",
    "win.tracer(0)\n",
    "win.setup(600,600)"
   ]
  },
  {
   "cell_type": "markdown",
   "metadata": {},
   "source": [
    "## Create snake's head"
   ]
  },
  {
   "cell_type": "markdown",
   "metadata": {},
   "source": [
    "The snake is basically a turtle that moves around the window. So create a turtle and name it as head."
   ]
  },
  {
   "cell_type": "code",
   "execution_count": null,
   "metadata": {},
   "outputs": [],
   "source": [
    "head = turtle.Turtle()\n",
    "head.shape(\"square\")\n",
    "head.color(\"black\")\n",
    "head.speed(5)\n",
    "head.penup()\n",
    "head.goto(0,100)\n",
    "head.direction = \"stop\""
   ]
  },
  {
   "cell_type": "markdown",
   "metadata": {},
   "source": [
    "Once the head is created, create a main loop that always set to True and upadte the window using window.update() function."
   ]
  },
  {
   "cell_type": "code",
   "execution_count": null,
   "metadata": {},
   "outputs": [],
   "source": [
    "while True:\n",
    "    win.update()"
   ]
  },
  {
   "cell_type": "markdown",
   "metadata": {},
   "source": [
    "## Functions to move the snake"
   ]
  },
  {
   "cell_type": "markdown",
   "metadata": {},
   "source": [
    "The snake is created. So let's move the snake. We define a function called go(). If the head goes up, the ‘y’ coordinate is increased, if the head goes down, the ‘y’ coordinate decreases, if the head moves right, the ‘x’ coordinate increases and if the head moves left, the ‘x’ coordinate decreases."
   ]
  },
  {
   "cell_type": "code",
   "execution_count": null,
   "metadata": {},
   "outputs": [],
   "source": [
    "def go():\n",
    "    if head.direction == \"up\":\n",
    "        y = head.ycor()\n",
    "        head.sety(y+20)\n",
    "\n",
    "    if head.direction == \"down\":\n",
    "        y = head.ycor()\n",
    "        head.sety(y-20)\n",
    "\n",
    "    if head.direction == \"right\":\n",
    "        x = head.xcor()\n",
    "        head.setx(x+20)\n",
    "\n",
    "    if head.direction == \"left\":\n",
    "        x = head.xcor()\n",
    "        head.setx(x-20)"
   ]
  },
  {
   "cell_type": "markdown",
   "metadata": {},
   "source": [
    "whenever we update the screen we have to call the function or untill we called it deos nothng."
   ]
  },
  {
   "cell_type": "code",
   "execution_count": null,
   "metadata": {},
   "outputs": [],
   "source": [
    "while True:\n",
    "    win.update()\n",
    "    move()"
   ]
  },
  {
   "cell_type": "markdown",
   "metadata": {},
   "source": [
    "When the code is executed the snake moves very fast. To slow this down, we import the time module and use delay."
   ]
  },
  {
   "cell_type": "code",
   "execution_count": null,
   "metadata": {},
   "outputs": [],
   "source": [
    "import time\n",
    "delay = 0.1\n",
    "# Main loop\n",
    "while True:\n",
    "    win.update()\n",
    "    move()\n",
    "    time.sleep(delay)"
   ]
  },
  {
   "cell_type": "markdown",
   "metadata": {},
   "source": [
    "We have already given the functions to move the snake but we have not specified the specific keys to to use.\n",
    "\n",
    "NOTE: The snake can't go right from left, left from right and top from down and down from top."
   ]
  },
  {
   "cell_type": "code",
   "execution_count": null,
   "metadata": {},
   "outputs": [],
   "source": [
    "def go_up():\n",
    "    if head.direction != \"down\":\n",
    "        head.direction = \"up\"\n",
    "\n",
    "def go_down():\n",
    "    if head.direction != \"up\":\n",
    "        head.direction = \"down\"\n",
    "\n",
    "def go_right():\n",
    "    if head.direction != \"left\":\n",
    "        head.direction = \"right\"\n",
    "\n",
    "def go_left():\n",
    "    if head.direction != \"right\":\n",
    "        head.direction = \"left\""
   ]
  },
  {
   "cell_type": "markdown",
   "metadata": {},
   "source": [
    "## Binding with keyboard"
   ]
  },
  {
   "cell_type": "markdown",
   "metadata": {},
   "source": [
    "we need the system to listen our commands. so we use a function called win.listen() which listen the key press."
   ]
  },
  {
   "cell_type": "code",
   "execution_count": null,
   "metadata": {},
   "outputs": [],
   "source": [
    "win.listen()\n",
    "win.onkey(go_up, 'w')\n",
    "win.onkey(go_down, 's')\n",
    "win.onkey(go_right, 'd')\n",
    "win.onkey(go_left, 'a')"
   ]
  },
  {
   "cell_type": "markdown",
   "metadata": {},
   "source": [
    "## Appending food - pizza"
   ]
  },
  {
   "cell_type": "markdown",
   "metadata": {},
   "source": [
    "Adding pizza as food to the snake, so that it can eat and grow and the game continuous."
   ]
  },
  {
   "cell_type": "code",
   "execution_count": null,
   "metadata": {},
   "outputs": [],
   "source": [
    "pizza = turtle.Turtle()\n",
    "pizza.shape(\"circle\")\n",
    "pizza.color(\"red\")\n",
    "pizza.speed(0)\n",
    "pizza.penup()\n",
    "pizza.goto(0,0)\n",
    "pizza.shapesize(0.6, 0.6)"
   ]
  },
  {
   "cell_type": "markdown",
   "metadata": {},
   "source": [
    "Whenever the snake touches food, it needs to take up new and random position within the specified range."
   ]
  },
  {
   "cell_type": "code",
   "execution_count": null,
   "metadata": {},
   "outputs": [],
   "source": [
    "if head.distance(pizza) < 15:\n",
    "    x = random.randint(-290, 290)\n",
    "    y = random.randint(-290, 290) \n",
    "    pizza.goto(x,y)"
   ]
  },
  {
   "cell_type": "markdown",
   "metadata": {},
   "source": [
    "## Build snake's body"
   ]
  },
  {
   "cell_type": "markdown",
   "metadata": {},
   "source": [
    "The snake's body needs to be incresed whenever it touches the food. So, we create an array called segments for this."
   ]
  },
  {
   "cell_type": "code",
   "execution_count": 1,
   "metadata": {},
   "outputs": [],
   "source": [
    "segments = []"
   ]
  },
  {
   "cell_type": "code",
   "execution_count": null,
   "metadata": {},
   "outputs": [],
   "source": [
    "new_segment = turtle.Turtle()\n",
    "        #new_segment.color(random.choice(colors))\n",
    "        new_segment.color(\"white\")\n",
    "        new_segment.shape(\"square\")\n",
    "        new_segment.penup()\n",
    "        segments.append(new_segment)"
   ]
  },
  {
   "cell_type": "code",
   "execution_count": 3,
   "metadata": {},
   "outputs": [],
   "source": [
    "for i in range(len(segments) -1, 0, -1):\n",
    "        x = segments[i-1].xcor()\n",
    "        y = segments[i-1].ycor()\n",
    "        segments[i].goto(x,y)"
   ]
  },
  {
   "cell_type": "code",
   "execution_count": 4,
   "metadata": {},
   "outputs": [],
   "source": [
    "if len(segments) > 0:\n",
    "        x = head.xcor()\n",
    "        y = head.ycor()\n",
    "        segments[0].goto(x,y)"
   ]
  },
  {
   "cell_type": "markdown",
   "metadata": {},
   "source": [
    "## Append border collisions"
   ]
  },
  {
   "cell_type": "markdown",
   "metadata": {},
   "source": [
    "The snake needs to die when it collides with the border. we have given the coordinates of the border and we have to reset the snakehead position when it touches those coordinates."
   ]
  },
  {
   "cell_type": "code",
   "execution_count": null,
   "metadata": {},
   "outputs": [],
   "source": [
    "f head.xcor() > 290 or head.xcor() < -290 or head.ycor() > 290 or head.ycor() < -290:\n",
    "        time.sleep(1)\n",
    "        head.goto(0, 0)\n",
    "        head.direction = \"stop\""
   ]
  },
  {
   "cell_type": "markdown",
   "metadata": {},
   "source": [
    "The segments of the snake needs to disappear when the snake dies. To do this, we need to set the segment's position outside the window coordinates."
   ]
  },
  {
   "cell_type": "code",
   "execution_count": null,
   "metadata": {},
   "outputs": [],
   "source": [
    "for segment in segments:\n",
    "            segment.goto(1000,1000)\n",
    "        segments = []"
   ]
  },
  {
   "cell_type": "markdown",
   "metadata": {},
   "source": [
    "## Append body collisions"
   ]
  },
  {
   "cell_type": "markdown",
   "metadata": {},
   "source": [
    "The snake again needs to die when it touches itself or its own body."
   ]
  },
  {
   "cell_type": "code",
   "execution_count": null,
   "metadata": {},
   "outputs": [],
   "source": [
    "for segment in segments:\n",
    "        if segment.distance(head)<20:\n",
    "            time.sleep(1)\n",
    "            head.goto(0,0)\n",
    "            head.direction = \"stop\"\n",
    "            for segment in segments:\n",
    "                segment.goto(1000,1000)\n",
    "            segments = []"
   ]
  },
  {
   "cell_type": "markdown",
   "metadata": {},
   "source": [
    "## Add score when the snake eats pizza"
   ]
  },
  {
   "cell_type": "markdown",
   "metadata": {},
   "source": [
    "Add some score on the screen when the snake eats pizza."
   ]
  },
  {
   "cell_type": "code",
   "execution_count": null,
   "metadata": {},
   "outputs": [],
   "source": [
    "points = turtle.Turtle()\n",
    "points.speed(0)\n",
    "points.shape(\"square\")\n",
    "points.color(\"white\")\n",
    "points.penup()\n",
    "points.hideturtle()\n",
    "points.goto(0,260)\n",
    "points.write(\"Score: 0 High Score: {}\".format(high_score), align=\"center\", font=(\"Courier\", 24, \"normal\"))"
   ]
  },
  {
   "cell_type": "markdown",
   "metadata": {},
   "source": [
    "Let's initialize a variable called score and high_score"
   ]
  },
  {
   "cell_type": "code",
   "execution_count": null,
   "metadata": {},
   "outputs": [],
   "source": [
    "score = 0\n",
    "high_score = 0"
   ]
  },
  {
   "cell_type": "markdown",
   "metadata": {},
   "source": [
    "When the head touches(eats) food the score needs to be incresed by 10 and update the high_score."
   ]
  },
  {
   "cell_type": "code",
   "execution_count": null,
   "metadata": {},
   "outputs": [],
   "source": [
    "score += 10\n",
    "        if score > high_score:\n",
    "            high_score = score"
   ]
  },
  {
   "cell_type": "markdown",
   "metadata": {},
   "source": [
    "We have to reset the score when the snakehead collides with its own segment and border."
   ]
  },
  {
   "cell_type": "code",
   "execution_count": null,
   "metadata": {},
   "outputs": [],
   "source": [
    "score = 0\n",
    "        points.clear()\n",
    "        points.write(\"score: {} High Score: {}\".format(score, high_score), align=\"center\", font=(\"Courier\", 24, \"normal\"))"
   ]
  },
  {
   "cell_type": "markdown",
   "metadata": {},
   "source": [
    "### This is the code with little explanation and there will be a slight change in writing the entire  code"
   ]
  }
 ],
 "metadata": {
  "kernelspec": {
   "display_name": "Python 3",
   "language": "python",
   "name": "python3"
  },
  "language_info": {
   "codemirror_mode": {
    "name": "ipython",
    "version": 3
   },
   "file_extension": ".py",
   "mimetype": "text/x-python",
   "name": "python",
   "nbconvert_exporter": "python",
   "pygments_lexer": "ipython3",
   "version": "3.7.6"
  }
 },
 "nbformat": 4,
 "nbformat_minor": 4
}
